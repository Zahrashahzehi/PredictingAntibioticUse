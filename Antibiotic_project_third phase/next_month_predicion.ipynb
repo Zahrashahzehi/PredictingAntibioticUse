{
 "cells": [
  {
   "cell_type": "code",
   "execution_count": 21,
   "id": "99289538",
   "metadata": {},
   "outputs": [],
   "source": [
    "from sklearn.neural_network  import MLPRegressor\n",
    "from sklearn.model_selection import train_test_split\n",
    "from sklearn.metrics import mean_squared_error,mean_absolute_error"
   ]
  },
  {
   "cell_type": "markdown",
   "id": "8ae8bcc7",
   "metadata": {},
   "source": [
    "فراخوانی کتابخانه های مورد نیاز برای ساخت شبکه عصبی و معیار های سنجش شبکه عصبی ساخته شده"
   ]
  },
  {
   "cell_type": "code",
   "execution_count": 22,
   "id": "fa1028ad",
   "metadata": {},
   "outputs": [],
   "source": [
    "import joblib as jl\n",
    "import matplotlib.pyplot as plt\n",
    "import pandas as pd\n",
    "import numpy as np\n",
    "pd.set_option('display.max_rows', 50000)\n",
    "pd.set_option('display.max_columns', 500)\n",
    "#Note that .set_option() changes behavior globaly in Jupyter Notebooks, so it is not a temporary fix.\n",
    "pd.set_option('display.float_format', lambda x: '%.5f' % x)\n",
    "#FOR NUMPY\n",
    "#np.set_printoptions(suppress=True)"
   ]
  },
  {
   "cell_type": "markdown",
   "id": "aff7a889",
   "metadata": {},
   "source": [
    "فراخوانی کتابخانه های لازم برای رسم نمودار و کار با داده ها"
   ]
  },
  {
   "cell_type": "code",
   "execution_count": null,
   "id": "f1aaedcb",
   "metadata": {},
   "outputs": [],
   "source": [
    "DDD_DataSet=jl.load('DDD_DiD_DataSet.pkl')\n",
    "DDD_DataSet"
   ]
  },
  {
   "cell_type": "markdown",
   "id": "80709ed1",
   "metadata": {},
   "source": [
    "اپلود کردن فایل داده های خروجی فاز دو "
   ]
  },
  {
   "cell_type": "code",
   "execution_count": 24,
   "id": "a6a47102",
   "metadata": {},
   "outputs": [
    {
     "data": {
      "text/plain": [
       "year        0\n",
       "month       0\n",
       "fcn         0\n",
       "fcnv_DDD    0\n",
       "fcnv_DID    0\n",
       "dtype: int64"
      ]
     },
     "execution_count": 24,
     "metadata": {},
     "output_type": "execute_result"
    }
   ],
   "source": [
    "DDD_DataSet.isna().sum()"
   ]
  },
  {
   "cell_type": "markdown",
   "id": "a049bf05",
   "metadata": {},
   "source": [
    "داده های گم شده را در فاز دو با مقادیر قبلی جایگذین کردیم"
   ]
  },
  {
   "cell_type": "code",
   "execution_count": 25,
   "id": "fc74dc33",
   "metadata": {},
   "outputs": [
    {
     "data": {
      "text/html": [
       "<div>\n",
       "<style scoped>\n",
       "    .dataframe tbody tr th:only-of-type {\n",
       "        vertical-align: middle;\n",
       "    }\n",
       "\n",
       "    .dataframe tbody tr th {\n",
       "        vertical-align: top;\n",
       "    }\n",
       "\n",
       "    .dataframe thead th {\n",
       "        text-align: right;\n",
       "    }\n",
       "</style>\n",
       "<table border=\"1\" class=\"dataframe\">\n",
       "  <thead>\n",
       "    <tr style=\"text-align: right;\">\n",
       "      <th></th>\n",
       "      <th>year</th>\n",
       "      <th>month</th>\n",
       "      <th>fcnv_DDD</th>\n",
       "      <th>fcnv_DID</th>\n",
       "    </tr>\n",
       "  </thead>\n",
       "  <tbody>\n",
       "    <tr>\n",
       "      <th>count</th>\n",
       "      <td>1860.00000</td>\n",
       "      <td>1860.00000</td>\n",
       "      <td>1860.00000</td>\n",
       "      <td>1860.00000</td>\n",
       "    </tr>\n",
       "    <tr>\n",
       "      <th>mean</th>\n",
       "      <td>2013.00000</td>\n",
       "      <td>6.50000</td>\n",
       "      <td>1230788.82416</td>\n",
       "      <td>0.28555</td>\n",
       "    </tr>\n",
       "    <tr>\n",
       "      <th>std</th>\n",
       "      <td>1.41459</td>\n",
       "      <td>3.45298</td>\n",
       "      <td>1980714.63241</td>\n",
       "      <td>0.46169</td>\n",
       "    </tr>\n",
       "    <tr>\n",
       "      <th>min</th>\n",
       "      <td>2011.00000</td>\n",
       "      <td>1.00000</td>\n",
       "      <td>0.00000</td>\n",
       "      <td>0.00000</td>\n",
       "    </tr>\n",
       "    <tr>\n",
       "      <th>25%</th>\n",
       "      <td>2012.00000</td>\n",
       "      <td>3.75000</td>\n",
       "      <td>36613.71600</td>\n",
       "      <td>0.00818</td>\n",
       "    </tr>\n",
       "    <tr>\n",
       "      <th>50%</th>\n",
       "      <td>2013.00000</td>\n",
       "      <td>6.50000</td>\n",
       "      <td>153953.54000</td>\n",
       "      <td>0.03644</td>\n",
       "    </tr>\n",
       "    <tr>\n",
       "      <th>75%</th>\n",
       "      <td>2014.00000</td>\n",
       "      <td>9.25000</td>\n",
       "      <td>1388765.12800</td>\n",
       "      <td>0.32230</td>\n",
       "    </tr>\n",
       "    <tr>\n",
       "      <th>max</th>\n",
       "      <td>2015.00000</td>\n",
       "      <td>12.00000</td>\n",
       "      <td>12492330.34000</td>\n",
       "      <td>3.07244</td>\n",
       "    </tr>\n",
       "  </tbody>\n",
       "</table>\n",
       "</div>"
      ],
      "text/plain": [
       "            year      month       fcnv_DDD   fcnv_DID\n",
       "count 1860.00000 1860.00000     1860.00000 1860.00000\n",
       "mean  2013.00000    6.50000  1230788.82416    0.28555\n",
       "std      1.41459    3.45298  1980714.63241    0.46169\n",
       "min   2011.00000    1.00000        0.00000    0.00000\n",
       "25%   2012.00000    3.75000    36613.71600    0.00818\n",
       "50%   2013.00000    6.50000   153953.54000    0.03644\n",
       "75%   2014.00000    9.25000  1388765.12800    0.32230\n",
       "max   2015.00000   12.00000 12492330.34000    3.07244"
      ]
     },
     "execution_count": 25,
     "metadata": {},
     "output_type": "execute_result"
    }
   ],
   "source": [
    "DDD_DataSet.describe()"
   ]
  },
  {
   "cell_type": "markdown",
   "id": "e08ef077",
   "metadata": {},
   "source": [
    "خلاصه اطلاعات آماری داده ها"
   ]
  },
  {
   "cell_type": "code",
   "execution_count": 26,
   "id": "07d98ba8",
   "metadata": {},
   "outputs": [
    {
     "name": "stdout",
     "output_type": "stream",
     "text": [
      "<class 'pandas.core.frame.DataFrame'>\n",
      "RangeIndex: 1860 entries, 0 to 1859\n",
      "Data columns (total 5 columns):\n",
      " #   Column    Non-Null Count  Dtype  \n",
      "---  ------    --------------  -----  \n",
      " 0   year      1860 non-null   int64  \n",
      " 1   month     1860 non-null   int64  \n",
      " 2   fcn       1860 non-null   object \n",
      " 3   fcnv_DDD  1860 non-null   float64\n",
      " 4   fcnv_DID  1860 non-null   float64\n",
      "dtypes: float64(2), int64(2), object(1)\n",
      "memory usage: 72.8+ KB\n"
     ]
    }
   ],
   "source": [
    "DDD_DataSet.info()"
   ]
  },
  {
   "cell_type": "code",
   "execution_count": 27,
   "id": "df02f88a",
   "metadata": {},
   "outputs": [],
   "source": [
    "#fcn::  fine class name for antibitic\n",
    "\n",
    "def data_per_fca(fcn):\n",
    "    DDD_DataSet=jl.load('DDD_DiD_DataSet.pkl')\n",
    "    print('fcn:: ',fcn)\n",
    "    x=DDD_DataSet.fcnv_DDD[DDD_DataSet['fcn']==fcn]\n",
    "    x.reset_index(inplace=True,drop=True)\n",
    "    print('data_per_',fcn,' shape::',x.shape)\n",
    "    return x"
   ]
  },
  {
   "cell_type": "code",
   "execution_count": null,
   "id": "2c1e8d66",
   "metadata": {},
   "outputs": [],
   "source": []
  },
  {
   "cell_type": "markdown",
   "id": "661ed47b",
   "metadata": {},
   "source": [
    "در این بخش طبق تابع ساخته شده پیش بینی برای هر گروه از آنتی بیوتیک به طور جداگانه انجام خواهد شد و کار این تابع دریافت گروه مشخصی از آنتی بیوتیک برای قرار گرفتن در شبکه عصبی می باشد."
   ]
  },
  {
   "cell_type": "code",
   "execution_count": 32,
   "id": "598f3d13",
   "metadata": {},
   "outputs": [],
   "source": [
    "def DDD_Data_generate_byhistory(data_per_fca_,fcn,periods_,):\n",
    "    #Create Historical data---------------------------------------------------------------------\n",
    "    data_per_fca_byhistory=pd.DataFrame(data_per_fca_)\n",
    "    columns_name=['fcnv_DDD']\n",
    "    print(data_per_fca_byhistory)\n",
    "    prd=0\n",
    "    \n",
    "    for prd in range(1,periods_+1):\n",
    "        data_per_fca_byhistory= pd.concat(\n",
    "            [   data_per_fca_byhistory,\n",
    "                data_per_fca_.shift(periods=prd,fill_value=0)\n",
    "            ],axis=1\n",
    "             )\n",
    "        print(data_per_fca_byhistory.shape)\n",
    "        columns_name.append('fcnv_DDD_shift'+str(prd))\n",
    "        data_per_fca_byhistory.columns=0000\n",
    "        \n",
    "        data_per_fca_byhistory.reset_index(inplace=True,drop=True)\n",
    "\n",
    "    #End of for------------------------------------------------------------------------------------    \n",
    "    return data_per_fca_byhistory\n"
   ]
  },
  {
   "cell_type": "code",
   "execution_count": 33,
   "id": "8f289a9a",
   "metadata": {},
   "outputs": [
    {
     "name": "stdout",
     "output_type": "stream",
     "text": [
      "fcn::  J01XX\n",
      "data_per_ J01XX  shape:: (60,)\n",
      "fcn::  J01XX\n",
      "data_per_ J01XX  shape:: (60,)\n",
      "        fcnv_DDD\n",
      "0  3048642.61400\n",
      "1  1526624.53200\n",
      "2  1763186.51200\n",
      "3  2382097.67100\n",
      "4  2152837.94500\n",
      "5  2140478.36100\n",
      "6  2451883.88100\n",
      "7  2428115.37100\n",
      "8  2471260.56700\n",
      "9  1845664.74600\n",
      "10 1979273.98600\n",
      "11 2586054.76800\n",
      "12 2744670.99700\n",
      "13 2095940.79500\n",
      "14 3023947.38900\n",
      "15 2702469.95500\n",
      "16 2720219.49700\n",
      "17 2554085.51900\n",
      "18 3082678.18800\n",
      "19 2785030.08200\n",
      "20 2473741.42000\n",
      "21 1787503.46700\n",
      "22 2234445.09000\n",
      "23 2739053.60300\n",
      "24 3279870.65600\n",
      "25 2080802.66700\n",
      "26 2337488.82100\n",
      "27 2775521.26400\n",
      "28 2498944.11900\n",
      "29 2565621.75000\n",
      "30 3371514.91300\n",
      "31 3083454.50200\n",
      "32 3034882.93600\n",
      "33 2246133.28400\n",
      "34 2426641.90800\n",
      "35 2915238.56500\n",
      "36 4037451.39600\n",
      "37 1925358.08900\n",
      "38 2141287.82100\n",
      "39 2767681.59900\n",
      "40 2777543.63300\n",
      "41 2644505.04600\n",
      "42 3259421.00300\n",
      "43 2810072.22100\n",
      "44 2941936.11500\n",
      "45 2193126.84200\n",
      "46 2303047.27000\n",
      "47 3099571.31600\n",
      "48 3218985.88500\n",
      "49 2789515.78800\n",
      "50 2036531.76400\n",
      "51 2926803.87100\n",
      "52 2407700.51900\n",
      "53 3115474.26900\n",
      "54 3500718.27500\n",
      "55 3195654.28400\n",
      "56 3008060.50500\n",
      "57 2425091.74400\n",
      "58 3173443.28300\n",
      "59 3501452.32800\n",
      "(60, 2)\n"
     ]
    },
    {
     "ename": "TypeError",
     "evalue": "Index(...) must be called with a collection of some kind, 0 was passed",
     "output_type": "error",
     "traceback": [
      "\u001b[1;31m---------------------------------------------------------------------------\u001b[0m",
      "\u001b[1;31mTypeError\u001b[0m                                 Traceback (most recent call last)",
      "\u001b[1;32m~\\AppData\\Local\\Temp/ipykernel_10956/2707870757.py\u001b[0m in \u001b[0;36m<module>\u001b[1;34m\u001b[0m\n\u001b[0;32m      2\u001b[0m \u001b[0mfcn\u001b[0m\u001b[1;33m=\u001b[0m\u001b[1;34m'J01XX'\u001b[0m\u001b[1;33m\u001b[0m\u001b[1;33m\u001b[0m\u001b[0m\n\u001b[0;32m      3\u001b[0m \u001b[0mdata_per_fca\u001b[0m\u001b[1;33m(\u001b[0m\u001b[0mfcn\u001b[0m\u001b[1;33m)\u001b[0m\u001b[1;33m\u001b[0m\u001b[1;33m\u001b[0m\u001b[0m\n\u001b[1;32m----> 4\u001b[1;33m \u001b[0mDDD_data_byhistory_2\u001b[0m\u001b[1;33m=\u001b[0m\u001b[0mDDD_Data_generate_byhistory\u001b[0m\u001b[1;33m(\u001b[0m\u001b[0mdata_per_fca\u001b[0m\u001b[1;33m(\u001b[0m\u001b[0mfcn\u001b[0m\u001b[1;33m)\u001b[0m\u001b[1;33m,\u001b[0m\u001b[0mfcn\u001b[0m\u001b[1;33m,\u001b[0m\u001b[0mperiods_\u001b[0m\u001b[1;33m)\u001b[0m\u001b[1;33m\u001b[0m\u001b[1;33m\u001b[0m\u001b[0m\n\u001b[0m\u001b[0;32m      5\u001b[0m \u001b[0mDDD_data_byhistory_2\u001b[0m\u001b[1;33m\u001b[0m\u001b[1;33m\u001b[0m\u001b[0m\n",
      "\u001b[1;32m~\\AppData\\Local\\Temp/ipykernel_10956/3387076772.py\u001b[0m in \u001b[0;36mDDD_Data_generate_byhistory\u001b[1;34m(data_per_fca_, fcn, periods_)\u001b[0m\n\u001b[0;32m     14\u001b[0m         \u001b[0mprint\u001b[0m\u001b[1;33m(\u001b[0m\u001b[0mdata_per_fca_byhistory\u001b[0m\u001b[1;33m.\u001b[0m\u001b[0mshape\u001b[0m\u001b[1;33m)\u001b[0m\u001b[1;33m\u001b[0m\u001b[1;33m\u001b[0m\u001b[0m\n\u001b[0;32m     15\u001b[0m         \u001b[0mcolumns_name\u001b[0m\u001b[1;33m.\u001b[0m\u001b[0mappend\u001b[0m\u001b[1;33m(\u001b[0m\u001b[1;34m'fcnv_DDD_shift'\u001b[0m\u001b[1;33m+\u001b[0m\u001b[0mstr\u001b[0m\u001b[1;33m(\u001b[0m\u001b[0mprd\u001b[0m\u001b[1;33m)\u001b[0m\u001b[1;33m)\u001b[0m\u001b[1;33m\u001b[0m\u001b[1;33m\u001b[0m\u001b[0m\n\u001b[1;32m---> 16\u001b[1;33m         \u001b[0mdata_per_fca_byhistory\u001b[0m\u001b[1;33m.\u001b[0m\u001b[0mcolumns\u001b[0m\u001b[1;33m=\u001b[0m\u001b[1;36m0000\u001b[0m\u001b[1;33m\u001b[0m\u001b[1;33m\u001b[0m\u001b[0m\n\u001b[0m\u001b[0;32m     17\u001b[0m \u001b[1;33m\u001b[0m\u001b[0m\n\u001b[0;32m     18\u001b[0m         \u001b[0mdata_per_fca_byhistory\u001b[0m\u001b[1;33m.\u001b[0m\u001b[0mreset_index\u001b[0m\u001b[1;33m(\u001b[0m\u001b[0minplace\u001b[0m\u001b[1;33m=\u001b[0m\u001b[1;32mTrue\u001b[0m\u001b[1;33m,\u001b[0m\u001b[0mdrop\u001b[0m\u001b[1;33m=\u001b[0m\u001b[1;32mTrue\u001b[0m\u001b[1;33m)\u001b[0m\u001b[1;33m\u001b[0m\u001b[1;33m\u001b[0m\u001b[0m\n",
      "\u001b[1;32m~\\AppData\\Roaming\\Python\\Python39\\site-packages\\pandas\\core\\generic.py\u001b[0m in \u001b[0;36m__setattr__\u001b[1;34m(self, name, value)\u001b[0m\n\u001b[0;32m   5594\u001b[0m         \u001b[1;32mtry\u001b[0m\u001b[1;33m:\u001b[0m\u001b[1;33m\u001b[0m\u001b[1;33m\u001b[0m\u001b[0m\n\u001b[0;32m   5595\u001b[0m             \u001b[0mobject\u001b[0m\u001b[1;33m.\u001b[0m\u001b[0m__getattribute__\u001b[0m\u001b[1;33m(\u001b[0m\u001b[0mself\u001b[0m\u001b[1;33m,\u001b[0m \u001b[0mname\u001b[0m\u001b[1;33m)\u001b[0m\u001b[1;33m\u001b[0m\u001b[1;33m\u001b[0m\u001b[0m\n\u001b[1;32m-> 5596\u001b[1;33m             \u001b[1;32mreturn\u001b[0m \u001b[0mobject\u001b[0m\u001b[1;33m.\u001b[0m\u001b[0m__setattr__\u001b[0m\u001b[1;33m(\u001b[0m\u001b[0mself\u001b[0m\u001b[1;33m,\u001b[0m \u001b[0mname\u001b[0m\u001b[1;33m,\u001b[0m \u001b[0mvalue\u001b[0m\u001b[1;33m)\u001b[0m\u001b[1;33m\u001b[0m\u001b[1;33m\u001b[0m\u001b[0m\n\u001b[0m\u001b[0;32m   5597\u001b[0m         \u001b[1;32mexcept\u001b[0m \u001b[0mAttributeError\u001b[0m\u001b[1;33m:\u001b[0m\u001b[1;33m\u001b[0m\u001b[1;33m\u001b[0m\u001b[0m\n\u001b[0;32m   5598\u001b[0m             \u001b[1;32mpass\u001b[0m\u001b[1;33m\u001b[0m\u001b[1;33m\u001b[0m\u001b[0m\n",
      "\u001b[1;32m~\\AppData\\Roaming\\Python\\Python39\\site-packages\\pandas\\_libs\\properties.pyx\u001b[0m in \u001b[0;36mpandas._libs.properties.AxisProperty.__set__\u001b[1;34m()\u001b[0m\n",
      "\u001b[1;32m~\\AppData\\Roaming\\Python\\Python39\\site-packages\\pandas\\core\\generic.py\u001b[0m in \u001b[0;36m_set_axis\u001b[1;34m(self, axis, labels)\u001b[0m\n\u001b[0;32m    766\u001b[0m \u001b[1;33m\u001b[0m\u001b[0m\n\u001b[0;32m    767\u001b[0m     \u001b[1;32mdef\u001b[0m \u001b[0m_set_axis\u001b[0m\u001b[1;33m(\u001b[0m\u001b[0mself\u001b[0m\u001b[1;33m,\u001b[0m \u001b[0maxis\u001b[0m\u001b[1;33m:\u001b[0m \u001b[0mint\u001b[0m\u001b[1;33m,\u001b[0m \u001b[0mlabels\u001b[0m\u001b[1;33m:\u001b[0m \u001b[0mIndex\u001b[0m\u001b[1;33m)\u001b[0m \u001b[1;33m->\u001b[0m \u001b[1;32mNone\u001b[0m\u001b[1;33m:\u001b[0m\u001b[1;33m\u001b[0m\u001b[1;33m\u001b[0m\u001b[0m\n\u001b[1;32m--> 768\u001b[1;33m         \u001b[0mlabels\u001b[0m \u001b[1;33m=\u001b[0m \u001b[0mensure_index\u001b[0m\u001b[1;33m(\u001b[0m\u001b[0mlabels\u001b[0m\u001b[1;33m)\u001b[0m\u001b[1;33m\u001b[0m\u001b[1;33m\u001b[0m\u001b[0m\n\u001b[0m\u001b[0;32m    769\u001b[0m         \u001b[0mself\u001b[0m\u001b[1;33m.\u001b[0m\u001b[0m_mgr\u001b[0m\u001b[1;33m.\u001b[0m\u001b[0mset_axis\u001b[0m\u001b[1;33m(\u001b[0m\u001b[0maxis\u001b[0m\u001b[1;33m,\u001b[0m \u001b[0mlabels\u001b[0m\u001b[1;33m)\u001b[0m\u001b[1;33m\u001b[0m\u001b[1;33m\u001b[0m\u001b[0m\n\u001b[0;32m    770\u001b[0m         \u001b[0mself\u001b[0m\u001b[1;33m.\u001b[0m\u001b[0m_clear_item_cache\u001b[0m\u001b[1;33m(\u001b[0m\u001b[1;33m)\u001b[0m\u001b[1;33m\u001b[0m\u001b[1;33m\u001b[0m\u001b[0m\n",
      "\u001b[1;32m~\\AppData\\Roaming\\Python\\Python39\\site-packages\\pandas\\core\\indexes\\base.py\u001b[0m in \u001b[0;36mensure_index\u001b[1;34m(index_like, copy)\u001b[0m\n\u001b[0;32m   7041\u001b[0m             \u001b[1;32mreturn\u001b[0m \u001b[0mIndex\u001b[0m\u001b[1;33m.\u001b[0m\u001b[0m_with_infer\u001b[0m\u001b[1;33m(\u001b[0m\u001b[0mindex_like\u001b[0m\u001b[1;33m,\u001b[0m \u001b[0mcopy\u001b[0m\u001b[1;33m=\u001b[0m\u001b[0mcopy\u001b[0m\u001b[1;33m,\u001b[0m \u001b[0mtupleize_cols\u001b[0m\u001b[1;33m=\u001b[0m\u001b[1;32mFalse\u001b[0m\u001b[1;33m)\u001b[0m\u001b[1;33m\u001b[0m\u001b[1;33m\u001b[0m\u001b[0m\n\u001b[0;32m   7042\u001b[0m     \u001b[1;32melse\u001b[0m\u001b[1;33m:\u001b[0m\u001b[1;33m\u001b[0m\u001b[1;33m\u001b[0m\u001b[0m\n\u001b[1;32m-> 7043\u001b[1;33m         \u001b[1;32mreturn\u001b[0m \u001b[0mIndex\u001b[0m\u001b[1;33m.\u001b[0m\u001b[0m_with_infer\u001b[0m\u001b[1;33m(\u001b[0m\u001b[0mindex_like\u001b[0m\u001b[1;33m,\u001b[0m \u001b[0mcopy\u001b[0m\u001b[1;33m=\u001b[0m\u001b[0mcopy\u001b[0m\u001b[1;33m)\u001b[0m\u001b[1;33m\u001b[0m\u001b[1;33m\u001b[0m\u001b[0m\n\u001b[0m\u001b[0;32m   7044\u001b[0m \u001b[1;33m\u001b[0m\u001b[0m\n\u001b[0;32m   7045\u001b[0m \u001b[1;33m\u001b[0m\u001b[0m\n",
      "\u001b[1;32m~\\AppData\\Roaming\\Python\\Python39\\site-packages\\pandas\\core\\indexes\\base.py\u001b[0m in \u001b[0;36m_with_infer\u001b[1;34m(cls, *args, **kwargs)\u001b[0m\n\u001b[0;32m    678\u001b[0m         \u001b[1;32mwith\u001b[0m \u001b[0mwarnings\u001b[0m\u001b[1;33m.\u001b[0m\u001b[0mcatch_warnings\u001b[0m\u001b[1;33m(\u001b[0m\u001b[1;33m)\u001b[0m\u001b[1;33m:\u001b[0m\u001b[1;33m\u001b[0m\u001b[1;33m\u001b[0m\u001b[0m\n\u001b[0;32m    679\u001b[0m             \u001b[0mwarnings\u001b[0m\u001b[1;33m.\u001b[0m\u001b[0mfilterwarnings\u001b[0m\u001b[1;33m(\u001b[0m\u001b[1;34m\"ignore\"\u001b[0m\u001b[1;33m,\u001b[0m \u001b[1;34m\".*the Index constructor\"\u001b[0m\u001b[1;33m,\u001b[0m \u001b[0mFutureWarning\u001b[0m\u001b[1;33m)\u001b[0m\u001b[1;33m\u001b[0m\u001b[1;33m\u001b[0m\u001b[0m\n\u001b[1;32m--> 680\u001b[1;33m             \u001b[0mresult\u001b[0m \u001b[1;33m=\u001b[0m \u001b[0mcls\u001b[0m\u001b[1;33m(\u001b[0m\u001b[1;33m*\u001b[0m\u001b[0margs\u001b[0m\u001b[1;33m,\u001b[0m \u001b[1;33m**\u001b[0m\u001b[0mkwargs\u001b[0m\u001b[1;33m)\u001b[0m\u001b[1;33m\u001b[0m\u001b[1;33m\u001b[0m\u001b[0m\n\u001b[0m\u001b[0;32m    681\u001b[0m \u001b[1;33m\u001b[0m\u001b[0m\n\u001b[0;32m    682\u001b[0m         \u001b[1;32mif\u001b[0m \u001b[0mresult\u001b[0m\u001b[1;33m.\u001b[0m\u001b[0mdtype\u001b[0m \u001b[1;33m==\u001b[0m \u001b[0m_dtype_obj\u001b[0m \u001b[1;32mand\u001b[0m \u001b[1;32mnot\u001b[0m \u001b[0mresult\u001b[0m\u001b[1;33m.\u001b[0m\u001b[0m_is_multi\u001b[0m\u001b[1;33m:\u001b[0m\u001b[1;33m\u001b[0m\u001b[1;33m\u001b[0m\u001b[0m\n",
      "\u001b[1;32m~\\AppData\\Roaming\\Python\\Python39\\site-packages\\pandas\\core\\indexes\\base.py\u001b[0m in \u001b[0;36m__new__\u001b[1;34m(cls, data, dtype, copy, name, tupleize_cols, **kwargs)\u001b[0m\n\u001b[0;32m    506\u001b[0m \u001b[1;33m\u001b[0m\u001b[0m\n\u001b[0;32m    507\u001b[0m         \u001b[1;32melif\u001b[0m \u001b[0mis_scalar\u001b[0m\u001b[1;33m(\u001b[0m\u001b[0mdata\u001b[0m\u001b[1;33m)\u001b[0m\u001b[1;33m:\u001b[0m\u001b[1;33m\u001b[0m\u001b[1;33m\u001b[0m\u001b[0m\n\u001b[1;32m--> 508\u001b[1;33m             \u001b[1;32mraise\u001b[0m \u001b[0mcls\u001b[0m\u001b[1;33m.\u001b[0m\u001b[0m_scalar_data_error\u001b[0m\u001b[1;33m(\u001b[0m\u001b[0mdata\u001b[0m\u001b[1;33m)\u001b[0m\u001b[1;33m\u001b[0m\u001b[1;33m\u001b[0m\u001b[0m\n\u001b[0m\u001b[0;32m    509\u001b[0m         \u001b[1;32melif\u001b[0m \u001b[0mhasattr\u001b[0m\u001b[1;33m(\u001b[0m\u001b[0mdata\u001b[0m\u001b[1;33m,\u001b[0m \u001b[1;34m\"__array__\"\u001b[0m\u001b[1;33m)\u001b[0m\u001b[1;33m:\u001b[0m\u001b[1;33m\u001b[0m\u001b[1;33m\u001b[0m\u001b[0m\n\u001b[0;32m    510\u001b[0m             \u001b[1;32mreturn\u001b[0m \u001b[0mIndex\u001b[0m\u001b[1;33m(\u001b[0m\u001b[0mnp\u001b[0m\u001b[1;33m.\u001b[0m\u001b[0masarray\u001b[0m\u001b[1;33m(\u001b[0m\u001b[0mdata\u001b[0m\u001b[1;33m)\u001b[0m\u001b[1;33m,\u001b[0m \u001b[0mdtype\u001b[0m\u001b[1;33m=\u001b[0m\u001b[0mdtype\u001b[0m\u001b[1;33m,\u001b[0m \u001b[0mcopy\u001b[0m\u001b[1;33m=\u001b[0m\u001b[0mcopy\u001b[0m\u001b[1;33m,\u001b[0m \u001b[0mname\u001b[0m\u001b[1;33m=\u001b[0m\u001b[0mname\u001b[0m\u001b[1;33m,\u001b[0m \u001b[1;33m**\u001b[0m\u001b[0mkwargs\u001b[0m\u001b[1;33m)\u001b[0m\u001b[1;33m\u001b[0m\u001b[1;33m\u001b[0m\u001b[0m\n",
      "\u001b[1;31mTypeError\u001b[0m: Index(...) must be called with a collection of some kind, 0 was passed"
     ]
    }
   ],
   "source": [
    "periods_=9\n",
    "fcn='J01XX'\n",
    "data_per_fca(fcn)\n",
    "DDD_data_byhistory_2=DDD_Data_generate_byhistory(data_per_fca(fcn),fcn,periods_)\n",
    "DDD_data_byhistory_2"
   ]
  },
  {
   "cell_type": "markdown",
   "id": "84251fa4",
   "metadata": {},
   "source": [
    "کاری که این تابع انجام خواهد داد طبق تابع تعریف شده قبلی و اسم گروه آنتی بیوتیک و همچنین دوره مشخص که آرگومان های ورودی هستند برای فایل داده اصلی تاریخچه ایی ایجاد خواهد کرد که در فاز دو به طور کامل ضرورت ایجاد تاریخچه توضیح داده شده است "
   ]
  },
  {
   "cell_type": "code",
   "execution_count": 12,
   "id": "1e0f3128",
   "metadata": {},
   "outputs": [
    {
     "data": {
      "text/plain": [
       "array(['J01AA', 'J01BA', 'J01CA', 'J01CE', 'J01CF', 'J01CG', 'J01CR',\n",
       "       'J01DA', 'J01DB', 'J01DC', 'J01DD', 'J01DE', 'J01DF', 'J01DH',\n",
       "       'J01DI', 'J01EA', 'J01EB', 'J01EC', 'J01EE', 'J01FA', 'J01FF',\n",
       "       'J01FG', 'J01GA', 'J01GB', 'J01MA', 'J01XA', 'J01XB', 'J01XC',\n",
       "       'J01XD', 'J01XE', 'J01XX'], dtype=object)"
      ]
     },
     "execution_count": 12,
     "metadata": {},
     "output_type": "execute_result"
    }
   ],
   "source": [
    "DDD_DataSet.fcn.unique()"
   ]
  },
  {
   "cell_type": "code",
   "execution_count": 20,
   "id": "4829f94c",
   "metadata": {},
   "outputs": [
    {
     "name": "stdout",
     "output_type": "stream",
     "text": [
      "fcn::  J01XX\n",
      "data_per_ J01XX  shape:: (60,)\n",
      "fcn::  J01XX\n",
      "data_per_ J01XX  shape:: (60,)\n",
      "(60, 1)\n",
      "(60, 2)\n"
     ]
    },
    {
     "ename": "TypeError",
     "evalue": "Index(...) must be called with a collection of some kind, 0 was passed",
     "output_type": "error",
     "traceback": [
      "\u001b[1;31m---------------------------------------------------------------------------\u001b[0m",
      "\u001b[1;31mTypeError\u001b[0m                                 Traceback (most recent call last)",
      "\u001b[1;32m~\\AppData\\Local\\Temp/ipykernel_10956/2426399410.py\u001b[0m in \u001b[0;36m<module>\u001b[1;34m\u001b[0m\n\u001b[0;32m      3\u001b[0m \u001b[0mfcn\u001b[0m\u001b[1;33m=\u001b[0m\u001b[1;34m'J01XX'\u001b[0m\u001b[1;33m\u001b[0m\u001b[1;33m\u001b[0m\u001b[0m\n\u001b[0;32m      4\u001b[0m \u001b[0mdata_per_fca\u001b[0m\u001b[1;33m(\u001b[0m\u001b[0mfcn\u001b[0m\u001b[1;33m)\u001b[0m\u001b[1;33m\u001b[0m\u001b[1;33m\u001b[0m\u001b[0m\n\u001b[1;32m----> 5\u001b[1;33m \u001b[0mDDD_data_byhistory\u001b[0m\u001b[1;33m=\u001b[0m\u001b[0mDDD_Data_generate_byhistory\u001b[0m\u001b[1;33m(\u001b[0m\u001b[0mdata_per_fca\u001b[0m\u001b[1;33m(\u001b[0m\u001b[0mfcn\u001b[0m\u001b[1;33m)\u001b[0m\u001b[1;33m,\u001b[0m\u001b[0mfcn\u001b[0m\u001b[1;33m,\u001b[0m\u001b[0mperiods_\u001b[0m\u001b[1;33m)\u001b[0m\u001b[1;33m\u001b[0m\u001b[1;33m\u001b[0m\u001b[0m\n\u001b[0m\u001b[0;32m      6\u001b[0m \u001b[1;33m\u001b[0m\u001b[0m\n\u001b[0;32m      7\u001b[0m \u001b[1;33m\u001b[0m\u001b[0m\n",
      "\u001b[1;32m~\\AppData\\Local\\Temp/ipykernel_10956/4184394513.py\u001b[0m in \u001b[0;36mDDD_Data_generate_byhistory\u001b[1;34m(data_per_fca_, fcn, periods_)\u001b[0m\n\u001b[0;32m     14\u001b[0m         \u001b[0mprint\u001b[0m\u001b[1;33m(\u001b[0m\u001b[0mdata_per_fca_byhistory\u001b[0m\u001b[1;33m.\u001b[0m\u001b[0mshape\u001b[0m\u001b[1;33m)\u001b[0m\u001b[1;33m\u001b[0m\u001b[1;33m\u001b[0m\u001b[0m\n\u001b[0;32m     15\u001b[0m         \u001b[0mcolumns_name\u001b[0m\u001b[1;33m.\u001b[0m\u001b[0mappend\u001b[0m\u001b[1;33m(\u001b[0m\u001b[1;34m'fcnv_DDD_shift'\u001b[0m\u001b[1;33m+\u001b[0m\u001b[0mstr\u001b[0m\u001b[1;33m(\u001b[0m\u001b[0mprd\u001b[0m\u001b[1;33m)\u001b[0m\u001b[1;33m)\u001b[0m\u001b[1;33m\u001b[0m\u001b[1;33m\u001b[0m\u001b[0m\n\u001b[1;32m---> 16\u001b[1;33m         \u001b[0mdata_per_fca_byhistory\u001b[0m\u001b[1;33m.\u001b[0m\u001b[0mcolumns\u001b[0m\u001b[1;33m=\u001b[0m\u001b[1;36m0000\u001b[0m\u001b[1;33m\u001b[0m\u001b[1;33m\u001b[0m\u001b[0m\n\u001b[0m\u001b[0;32m     17\u001b[0m \u001b[1;33m\u001b[0m\u001b[0m\n\u001b[0;32m     18\u001b[0m         \u001b[0mdata_per_fca_byhistory\u001b[0m\u001b[1;33m.\u001b[0m\u001b[0mreset_index\u001b[0m\u001b[1;33m(\u001b[0m\u001b[0minplace\u001b[0m\u001b[1;33m=\u001b[0m\u001b[1;32mTrue\u001b[0m\u001b[1;33m,\u001b[0m\u001b[0mdrop\u001b[0m\u001b[1;33m=\u001b[0m\u001b[1;32mTrue\u001b[0m\u001b[1;33m)\u001b[0m\u001b[1;33m\u001b[0m\u001b[1;33m\u001b[0m\u001b[0m\n",
      "\u001b[1;32m~\\AppData\\Roaming\\Python\\Python39\\site-packages\\pandas\\core\\generic.py\u001b[0m in \u001b[0;36m__setattr__\u001b[1;34m(self, name, value)\u001b[0m\n\u001b[0;32m   5594\u001b[0m         \u001b[1;32mtry\u001b[0m\u001b[1;33m:\u001b[0m\u001b[1;33m\u001b[0m\u001b[1;33m\u001b[0m\u001b[0m\n\u001b[0;32m   5595\u001b[0m             \u001b[0mobject\u001b[0m\u001b[1;33m.\u001b[0m\u001b[0m__getattribute__\u001b[0m\u001b[1;33m(\u001b[0m\u001b[0mself\u001b[0m\u001b[1;33m,\u001b[0m \u001b[0mname\u001b[0m\u001b[1;33m)\u001b[0m\u001b[1;33m\u001b[0m\u001b[1;33m\u001b[0m\u001b[0m\n\u001b[1;32m-> 5596\u001b[1;33m             \u001b[1;32mreturn\u001b[0m \u001b[0mobject\u001b[0m\u001b[1;33m.\u001b[0m\u001b[0m__setattr__\u001b[0m\u001b[1;33m(\u001b[0m\u001b[0mself\u001b[0m\u001b[1;33m,\u001b[0m \u001b[0mname\u001b[0m\u001b[1;33m,\u001b[0m \u001b[0mvalue\u001b[0m\u001b[1;33m)\u001b[0m\u001b[1;33m\u001b[0m\u001b[1;33m\u001b[0m\u001b[0m\n\u001b[0m\u001b[0;32m   5597\u001b[0m         \u001b[1;32mexcept\u001b[0m \u001b[0mAttributeError\u001b[0m\u001b[1;33m:\u001b[0m\u001b[1;33m\u001b[0m\u001b[1;33m\u001b[0m\u001b[0m\n\u001b[0;32m   5598\u001b[0m             \u001b[1;32mpass\u001b[0m\u001b[1;33m\u001b[0m\u001b[1;33m\u001b[0m\u001b[0m\n",
      "\u001b[1;32m~\\AppData\\Roaming\\Python\\Python39\\site-packages\\pandas\\_libs\\properties.pyx\u001b[0m in \u001b[0;36mpandas._libs.properties.AxisProperty.__set__\u001b[1;34m()\u001b[0m\n",
      "\u001b[1;32m~\\AppData\\Roaming\\Python\\Python39\\site-packages\\pandas\\core\\generic.py\u001b[0m in \u001b[0;36m_set_axis\u001b[1;34m(self, axis, labels)\u001b[0m\n\u001b[0;32m    766\u001b[0m \u001b[1;33m\u001b[0m\u001b[0m\n\u001b[0;32m    767\u001b[0m     \u001b[1;32mdef\u001b[0m \u001b[0m_set_axis\u001b[0m\u001b[1;33m(\u001b[0m\u001b[0mself\u001b[0m\u001b[1;33m,\u001b[0m \u001b[0maxis\u001b[0m\u001b[1;33m:\u001b[0m \u001b[0mint\u001b[0m\u001b[1;33m,\u001b[0m \u001b[0mlabels\u001b[0m\u001b[1;33m:\u001b[0m \u001b[0mIndex\u001b[0m\u001b[1;33m)\u001b[0m \u001b[1;33m->\u001b[0m \u001b[1;32mNone\u001b[0m\u001b[1;33m:\u001b[0m\u001b[1;33m\u001b[0m\u001b[1;33m\u001b[0m\u001b[0m\n\u001b[1;32m--> 768\u001b[1;33m         \u001b[0mlabels\u001b[0m \u001b[1;33m=\u001b[0m \u001b[0mensure_index\u001b[0m\u001b[1;33m(\u001b[0m\u001b[0mlabels\u001b[0m\u001b[1;33m)\u001b[0m\u001b[1;33m\u001b[0m\u001b[1;33m\u001b[0m\u001b[0m\n\u001b[0m\u001b[0;32m    769\u001b[0m         \u001b[0mself\u001b[0m\u001b[1;33m.\u001b[0m\u001b[0m_mgr\u001b[0m\u001b[1;33m.\u001b[0m\u001b[0mset_axis\u001b[0m\u001b[1;33m(\u001b[0m\u001b[0maxis\u001b[0m\u001b[1;33m,\u001b[0m \u001b[0mlabels\u001b[0m\u001b[1;33m)\u001b[0m\u001b[1;33m\u001b[0m\u001b[1;33m\u001b[0m\u001b[0m\n\u001b[0;32m    770\u001b[0m         \u001b[0mself\u001b[0m\u001b[1;33m.\u001b[0m\u001b[0m_clear_item_cache\u001b[0m\u001b[1;33m(\u001b[0m\u001b[1;33m)\u001b[0m\u001b[1;33m\u001b[0m\u001b[1;33m\u001b[0m\u001b[0m\n",
      "\u001b[1;32m~\\AppData\\Roaming\\Python\\Python39\\site-packages\\pandas\\core\\indexes\\base.py\u001b[0m in \u001b[0;36mensure_index\u001b[1;34m(index_like, copy)\u001b[0m\n\u001b[0;32m   7041\u001b[0m             \u001b[1;32mreturn\u001b[0m \u001b[0mIndex\u001b[0m\u001b[1;33m.\u001b[0m\u001b[0m_with_infer\u001b[0m\u001b[1;33m(\u001b[0m\u001b[0mindex_like\u001b[0m\u001b[1;33m,\u001b[0m \u001b[0mcopy\u001b[0m\u001b[1;33m=\u001b[0m\u001b[0mcopy\u001b[0m\u001b[1;33m,\u001b[0m \u001b[0mtupleize_cols\u001b[0m\u001b[1;33m=\u001b[0m\u001b[1;32mFalse\u001b[0m\u001b[1;33m)\u001b[0m\u001b[1;33m\u001b[0m\u001b[1;33m\u001b[0m\u001b[0m\n\u001b[0;32m   7042\u001b[0m     \u001b[1;32melse\u001b[0m\u001b[1;33m:\u001b[0m\u001b[1;33m\u001b[0m\u001b[1;33m\u001b[0m\u001b[0m\n\u001b[1;32m-> 7043\u001b[1;33m         \u001b[1;32mreturn\u001b[0m \u001b[0mIndex\u001b[0m\u001b[1;33m.\u001b[0m\u001b[0m_with_infer\u001b[0m\u001b[1;33m(\u001b[0m\u001b[0mindex_like\u001b[0m\u001b[1;33m,\u001b[0m \u001b[0mcopy\u001b[0m\u001b[1;33m=\u001b[0m\u001b[0mcopy\u001b[0m\u001b[1;33m)\u001b[0m\u001b[1;33m\u001b[0m\u001b[1;33m\u001b[0m\u001b[0m\n\u001b[0m\u001b[0;32m   7044\u001b[0m \u001b[1;33m\u001b[0m\u001b[0m\n\u001b[0;32m   7045\u001b[0m \u001b[1;33m\u001b[0m\u001b[0m\n",
      "\u001b[1;32m~\\AppData\\Roaming\\Python\\Python39\\site-packages\\pandas\\core\\indexes\\base.py\u001b[0m in \u001b[0;36m_with_infer\u001b[1;34m(cls, *args, **kwargs)\u001b[0m\n\u001b[0;32m    678\u001b[0m         \u001b[1;32mwith\u001b[0m \u001b[0mwarnings\u001b[0m\u001b[1;33m.\u001b[0m\u001b[0mcatch_warnings\u001b[0m\u001b[1;33m(\u001b[0m\u001b[1;33m)\u001b[0m\u001b[1;33m:\u001b[0m\u001b[1;33m\u001b[0m\u001b[1;33m\u001b[0m\u001b[0m\n\u001b[0;32m    679\u001b[0m             \u001b[0mwarnings\u001b[0m\u001b[1;33m.\u001b[0m\u001b[0mfilterwarnings\u001b[0m\u001b[1;33m(\u001b[0m\u001b[1;34m\"ignore\"\u001b[0m\u001b[1;33m,\u001b[0m \u001b[1;34m\".*the Index constructor\"\u001b[0m\u001b[1;33m,\u001b[0m \u001b[0mFutureWarning\u001b[0m\u001b[1;33m)\u001b[0m\u001b[1;33m\u001b[0m\u001b[1;33m\u001b[0m\u001b[0m\n\u001b[1;32m--> 680\u001b[1;33m             \u001b[0mresult\u001b[0m \u001b[1;33m=\u001b[0m \u001b[0mcls\u001b[0m\u001b[1;33m(\u001b[0m\u001b[1;33m*\u001b[0m\u001b[0margs\u001b[0m\u001b[1;33m,\u001b[0m \u001b[1;33m**\u001b[0m\u001b[0mkwargs\u001b[0m\u001b[1;33m)\u001b[0m\u001b[1;33m\u001b[0m\u001b[1;33m\u001b[0m\u001b[0m\n\u001b[0m\u001b[0;32m    681\u001b[0m \u001b[1;33m\u001b[0m\u001b[0m\n\u001b[0;32m    682\u001b[0m         \u001b[1;32mif\u001b[0m \u001b[0mresult\u001b[0m\u001b[1;33m.\u001b[0m\u001b[0mdtype\u001b[0m \u001b[1;33m==\u001b[0m \u001b[0m_dtype_obj\u001b[0m \u001b[1;32mand\u001b[0m \u001b[1;32mnot\u001b[0m \u001b[0mresult\u001b[0m\u001b[1;33m.\u001b[0m\u001b[0m_is_multi\u001b[0m\u001b[1;33m:\u001b[0m\u001b[1;33m\u001b[0m\u001b[1;33m\u001b[0m\u001b[0m\n",
      "\u001b[1;32m~\\AppData\\Roaming\\Python\\Python39\\site-packages\\pandas\\core\\indexes\\base.py\u001b[0m in \u001b[0;36m__new__\u001b[1;34m(cls, data, dtype, copy, name, tupleize_cols, **kwargs)\u001b[0m\n\u001b[0;32m    506\u001b[0m \u001b[1;33m\u001b[0m\u001b[0m\n\u001b[0;32m    507\u001b[0m         \u001b[1;32melif\u001b[0m \u001b[0mis_scalar\u001b[0m\u001b[1;33m(\u001b[0m\u001b[0mdata\u001b[0m\u001b[1;33m)\u001b[0m\u001b[1;33m:\u001b[0m\u001b[1;33m\u001b[0m\u001b[1;33m\u001b[0m\u001b[0m\n\u001b[1;32m--> 508\u001b[1;33m             \u001b[1;32mraise\u001b[0m \u001b[0mcls\u001b[0m\u001b[1;33m.\u001b[0m\u001b[0m_scalar_data_error\u001b[0m\u001b[1;33m(\u001b[0m\u001b[0mdata\u001b[0m\u001b[1;33m)\u001b[0m\u001b[1;33m\u001b[0m\u001b[1;33m\u001b[0m\u001b[0m\n\u001b[0m\u001b[0;32m    509\u001b[0m         \u001b[1;32melif\u001b[0m \u001b[0mhasattr\u001b[0m\u001b[1;33m(\u001b[0m\u001b[0mdata\u001b[0m\u001b[1;33m,\u001b[0m \u001b[1;34m\"__array__\"\u001b[0m\u001b[1;33m)\u001b[0m\u001b[1;33m:\u001b[0m\u001b[1;33m\u001b[0m\u001b[1;33m\u001b[0m\u001b[0m\n\u001b[0;32m    510\u001b[0m             \u001b[1;32mreturn\u001b[0m \u001b[0mIndex\u001b[0m\u001b[1;33m(\u001b[0m\u001b[0mnp\u001b[0m\u001b[1;33m.\u001b[0m\u001b[0masarray\u001b[0m\u001b[1;33m(\u001b[0m\u001b[0mdata\u001b[0m\u001b[1;33m)\u001b[0m\u001b[1;33m,\u001b[0m \u001b[0mdtype\u001b[0m\u001b[1;33m=\u001b[0m\u001b[0mdtype\u001b[0m\u001b[1;33m,\u001b[0m \u001b[0mcopy\u001b[0m\u001b[1;33m=\u001b[0m\u001b[0mcopy\u001b[0m\u001b[1;33m,\u001b[0m \u001b[0mname\u001b[0m\u001b[1;33m=\u001b[0m\u001b[0mname\u001b[0m\u001b[1;33m,\u001b[0m \u001b[1;33m**\u001b[0m\u001b[0mkwargs\u001b[0m\u001b[1;33m)\u001b[0m\u001b[1;33m\u001b[0m\u001b[1;33m\u001b[0m\u001b[0m\n",
      "\u001b[1;31mTypeError\u001b[0m: Index(...) must be called with a collection of some kind, 0 was passed"
     ]
    }
   ],
   "source": [
    "periods_=np.random.randint(2,12)\n",
    "periods_=9\n",
    "fcn='J01XX'\n",
    "data_per_fca(fcn)\n",
    "DDD_data_byhistory=DDD_Data_generate_byhistory(data_per_fca(fcn),fcn,periods_)\n",
    "\n",
    "\n",
    "#Y=DDD_data_byhistory.loc[:,['fcnv_DDD']].values.ravel()\n",
    "#X=DDD_data_byhistory.iloc[:,1:periods_]\n",
    "#X\n",
    "#-----------------------------------------------------------------\n",
    "#-----------------------------------------------------------------\n",
    "#-----------------------------------------------------------------\n",
    "#shfl=False\n",
    "#rnd_std=444\n",
    "#X_train,X_test,Y_train,Y_test=train_test_split(X,Y,test_size=0.2,shuffle=shfl,random_state=rnd_std)\n",
    "#-----------------------------------------------------------------\n",
    "#-----------------------------------------------------------------\n",
    "#-----------------------------------------------------------------\n",
    "#hlayer_1_size=60\n",
    "#hlayer_2_size=17\n",
    "#print('hidden layer size:',(hlayer_1_size,hlayer_2_size))\n",
    "#model_DDD=MLPRegressor((hlayer_1_size,hlayer_2_size),max_iter=5000,verbose=False,activation=\"relu\")\n",
    "#model_DDD.fit(X_train,Y_train)\n",
    "#y_pred=model_DDD.predict(X_test)\n",
    "#jl.dump(model_DDD,'model_DDD.pkl')\n",
    "#-----------------------------------------------------------------\n",
    "#-----------------------------------------------------------------\n",
    "#-----------------------------------------------------------------\n",
    "#RMSE=round(mean_squared_error(Y_test,y_pred,squared=False) ,2)\n",
    "#MSE=round(mean_squared_error(Y_test,y_pred),2)\n",
    "#MAE=round(mean_absolute_error(Y_test,y_pred),2)\n",
    "#print('rmse:'.upper(),RMSE)\n",
    "#print('mse:'.upper(),MSE)\n",
    "#print('mae:'.upper(),MAE)\n",
    "#-----------------------------------------------------------------\n",
    "#-----------------------------------------------------------------\n",
    "#-----------------------------------------------------------------\n",
    "#plt.figure(figsize=(7,3))\n",
    "#plt.title('DDD prediction.by '+str(periods_)+' hsitory  '+fcn)\n",
    "#plt.plot(y_pred,ls='-',marker='*')\n",
    "#plt.plot(Y_test,ls='-',marker='.')\n",
    "#plt.legend(['predict','actual'])\n",
    "#plt.grid()\n",
    "#plt.show()\n"
   ]
  },
  {
   "cell_type": "markdown",
   "id": "33dd1f56",
   "metadata": {},
   "source": [
    "در این بخش با استفاده از تابع رندوم دوره ایی که برای ایجاد تاریخچه استفاده میشود ۹ است یعنی از ۹ ماه قبل استفاده میشود برای ایجاد تاریخچه و اسم گرروه خاصی که قرار است پیش بینی برای ان انجام شود انتخاب شده و دو تابع ایجاد شده فراخوانی شده اند و از این توابع در ساخت مدل شبکه عصبی استفاده شده است و شبکه عصبی ایجاد شده دارای دو لایه نهان با نورون های ۶۰ و ۱۷ میباشد و داده های تست و اموزش را ایجاد میکنیم و همچنین با استفاده از کتابخانه مربوط به ساخت شبکه عصبی مدل خودمان را ساخته و خروجی مدل را نیز ذخیره خواهیم کرد تا هرجا لازم شد از ان استفاده کنیم از طرفی از معیار های سنجش با استفاده از کتابخانه های مربوطه استفاده کرده و نمودار مربوط به مقدار واقعی و مقدار پیش بینی شده در شبکه عصبی را رسم میکنیم که مقدار واقعی در نمودار با نقطه و مقدار پیش بینی شده با ستاره مشخص شده است و البته باید توجه کرد که برای هر گروه آنتی بیوتیک معیار های سنجش و نمودار متفاوت خواهد شد"
   ]
  },
  {
   "cell_type": "code",
   "execution_count": 16,
   "id": "045c68a7",
   "metadata": {},
   "outputs": [],
   "source": [
    "def predict_one_future_month(model, input_, periods_, num_month_next):\n",
    "    global table_next_month\n",
    "    if   num_month_next == 0 :\n",
    "        return table_next_month\n",
    "    one_future_month=model.predict(input_)\n",
    "    #print(input_,input_.shape)\n",
    "    added_one_future_month=np.concatenate(([one_future_month],input_),axis=1)\n",
    "    X_for_next_month=added_one_future_month[0,0:periods_-1].reshape(1,-1)\n",
    "    \n",
    "    #print(X_for_next_month,X_for_next_month.shape)\n",
    "    \n",
    "    table_next_month=np.concatenate((table_next_month,X_for_next_month))\n",
    "    predict_one_future_month(model,X_for_next_month,periods_,num_month_next-1)"
   ]
  },
  {
   "cell_type": "markdown",
   "id": "61f4baf2",
   "metadata": {},
   "source": [
    "با استفاده از این تابع میتوان هر تعداد ماه از اینده را که میخواهیم برای گروهی خاصی از آنتی بیوتیک پیش بینی کنیم "
   ]
  },
  {
   "cell_type": "code",
   "execution_count": 17,
   "id": "331a07b5",
   "metadata": {},
   "outputs": [
    {
     "ename": "NameError",
     "evalue": "name 'X' is not defined",
     "output_type": "error",
     "traceback": [
      "\u001b[1;31m---------------------------------------------------------------------------\u001b[0m",
      "\u001b[1;31mNameError\u001b[0m                                 Traceback (most recent call last)",
      "\u001b[1;32m~\\AppData\\Local\\Temp/ipykernel_10956/1845394241.py\u001b[0m in \u001b[0;36m<module>\u001b[1;34m\u001b[0m\n\u001b[0;32m      1\u001b[0m \u001b[0mmodel\u001b[0m\u001b[1;33m=\u001b[0m\u001b[0mjl\u001b[0m\u001b[1;33m.\u001b[0m\u001b[0mload\u001b[0m\u001b[1;33m(\u001b[0m\u001b[1;34m'model_DDD.pkl'\u001b[0m\u001b[1;33m)\u001b[0m\u001b[1;33m\u001b[0m\u001b[1;33m\u001b[0m\u001b[0m\n\u001b[0;32m      2\u001b[0m \u001b[0mnum_month_next\u001b[0m\u001b[1;33m=\u001b[0m\u001b[1;36m12\u001b[0m\u001b[1;33m\u001b[0m\u001b[1;33m\u001b[0m\u001b[0m\n\u001b[1;32m----> 3\u001b[1;33m \u001b[0minput_\u001b[0m\u001b[1;33m=\u001b[0m\u001b[0mX\u001b[0m\u001b[1;33m.\u001b[0m\u001b[0miloc\u001b[0m\u001b[1;33m[\u001b[0m\u001b[1;36m59\u001b[0m\u001b[1;33m,\u001b[0m\u001b[1;33m:\u001b[0m\u001b[1;33m]\u001b[0m\u001b[1;33m.\u001b[0m\u001b[0mvalues\u001b[0m\u001b[1;33m.\u001b[0m\u001b[0mreshape\u001b[0m\u001b[1;33m(\u001b[0m\u001b[1;36m1\u001b[0m\u001b[1;33m,\u001b[0m\u001b[1;33m-\u001b[0m\u001b[1;36m1\u001b[0m\u001b[1;33m)\u001b[0m\u001b[1;33m\u001b[0m\u001b[1;33m\u001b[0m\u001b[0m\n\u001b[0m\u001b[0;32m      4\u001b[0m \u001b[0mtable_next_month\u001b[0m\u001b[1;33m=\u001b[0m\u001b[0mnp\u001b[0m\u001b[1;33m.\u001b[0m\u001b[0marray\u001b[0m\u001b[1;33m(\u001b[0m\u001b[1;33m[\u001b[0m\u001b[0mnp\u001b[0m\u001b[1;33m.\u001b[0m\u001b[0mones\u001b[0m\u001b[1;33m(\u001b[0m\u001b[0mperiods_\u001b[0m\u001b[1;33m-\u001b[0m\u001b[1;36m1\u001b[0m\u001b[1;33m)\u001b[0m\u001b[1;33m]\u001b[0m\u001b[1;33m)\u001b[0m\u001b[1;33m\u001b[0m\u001b[1;33m\u001b[0m\u001b[0m\n\u001b[0;32m      5\u001b[0m \u001b[0mpredict_one_future_month\u001b[0m\u001b[1;33m(\u001b[0m\u001b[0mmodel\u001b[0m\u001b[1;33m,\u001b[0m\u001b[0minput_\u001b[0m\u001b[1;33m,\u001b[0m\u001b[0mperiods_\u001b[0m\u001b[1;33m,\u001b[0m\u001b[0mnum_month_next\u001b[0m\u001b[1;33m)\u001b[0m\u001b[1;33m\u001b[0m\u001b[1;33m\u001b[0m\u001b[0m\n",
      "\u001b[1;31mNameError\u001b[0m: name 'X' is not defined"
     ]
    }
   ],
   "source": [
    "model=jl.load('model_DDD.pkl')\n",
    "num_month_next=12\n",
    "input_=X.iloc[59,:].values.reshape(1,-1)\n",
    "table_next_month=np.array([np.ones(periods_-1)])\n",
    "predict_one_future_month(model,input_,periods_,num_month_next)\n",
    "\n",
    "#print(table_next_month.shape)\n",
    "print(table_next_month)\n",
    "print(table_next_month[1:num_month_next+1,0])\n",
    "plt.figure(figsize=(7,3))\n",
    "plt.plot(range(1,num_month_next+1),table_next_month[1:num_month_next+1,0],'bx-')\n",
    "\n",
    "plt.title(fcn)\n",
    "plt.grid()\n",
    "plt.show()\n"
   ]
  },
  {
   "cell_type": "markdown",
   "id": "dcb77d91",
   "metadata": {},
   "source": [
    "طبق این بخش از کد توانستیم مصرف آنتی بیوتیک را برای یکسال آینده پیش بینی کنیم و بر اساس نمودار متوجه میشویم که مصرف آنتی بیوتیک روند افزایشی داشته است"
   ]
  }
 ],
 "metadata": {
  "kernelspec": {
   "display_name": "Python 3 (ipykernel)",
   "language": "python",
   "name": "python3"
  },
  "language_info": {
   "codemirror_mode": {
    "name": "ipython",
    "version": 3
   },
   "file_extension": ".py",
   "mimetype": "text/x-python",
   "name": "python",
   "nbconvert_exporter": "python",
   "pygments_lexer": "ipython3",
   "version": "3.9.7"
  }
 },
 "nbformat": 4,
 "nbformat_minor": 5
}
